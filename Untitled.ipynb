{
 "cells": [
  {
   "cell_type": "code",
   "execution_count": 4,
   "id": "78530844",
   "metadata": {},
   "outputs": [
    {
     "ename": "IndentationError",
     "evalue": "unindent does not match any outer indentation level (<tokenize>, line 27)",
     "output_type": "error",
     "traceback": [
      "\u001b[1;36m  File \u001b[1;32m\"<tokenize>\"\u001b[1;36m, line \u001b[1;32m27\u001b[0m\n\u001b[1;33m    else:\u001b[0m\n\u001b[1;37m    ^\u001b[0m\n\u001b[1;31mIndentationError\u001b[0m\u001b[1;31m:\u001b[0m unindent does not match any outer indentation level\n"
     ]
    }
   ],
   "source": [
    "class ParkingGarage():\n",
    "    \"\"\"\n",
    "    What represents a parking garage\n",
    "    \"\"\"\n",
    "\n",
    "    def __init__(self, spaces, pay, leave):\n",
    "        self.spaces = 5\n",
    "        self.pay = False\n",
    "        self.leave = True\n",
    "\n",
    "    def takeTicket(self):\n",
    "         if self.spaces == 0:\n",
    "            print(\"There are not more parking spaces available\")\n",
    "            class ParkingGarage():\n",
    "    \"\"\"\n",
    "    What represents a parking garage\n",
    "    \"\"\"\n",
    "\n",
    "    def __init__(self, spaces, pay, leave):\n",
    "        self.spaces = 5\n",
    "        self.pay = False\n",
    "        self.leave = True\n",
    "\n",
    "    def takeTicket(self):\n",
    "         if self.spaces == 0:\n",
    "            print(\"There are not more parking spaces available\")\n",
    "        else:\n",
    "            self.spaces -= 1\n",
    "            print(f'Great, here is your ticket. There are now {self.spaces} spaces left')\n",
    "\n",
    "    def addPayment(self):\n",
    "\n",
    "        while not self.pay:\n",
    "            response = input(\"Do you want to pay for your parking?\")\n",
    "        if response:\"yes\"\n",
    "        self.pay = True\n",
    "            print(f\"Thank you for paying. have a great day! There are now {self.spaces} spaces left\")\n",
    "        self.pay = False\n",
    "        if response:\"no\"\n",
    "            print(f\"Please Pay for Your Parking.\")\n",
    "\n",
    "    def LeaveGarage(self):\n",
    "        if self.spaces >= 5:\n",
    "            print(\"you crazy\")\n",
    "        elif self.pay == True:\n",
    "            self.spaces += 1\n",
    "            print(\n",
    "                f'Thank you, have a nice day! There are now {self.spaces} spaces left')\n",
    "    else:\n",
    "            self.pay == False\n",
    "            input(\"You must pay for your parking before you leave!\")\n",
    "            print(\"Thanks for paying\")\n",
    "\n",
    "    def run(self):\n",
    "        while True:\n",
    "            response = input(\n",
    "                'Welcome to \"Saronia Parking\"! Type t for ticket, p for pay or l to leave.')\n",
    "            if response.lower() == \"t\":\n",
    "                self.takeTicket()\n",
    "            if response.lower() == \"p\":\n",
    "                self.addPayment()\n",
    "            if response.lower() == \"l\":\n",
    "                self.LeaveGarage()\n",
    "\n",
    "\n",
    "Car = ParkingGarage(0, 0, 0,)\n",
    "Car.run()\n",
    "\n"
   ]
  },
  {
   "cell_type": "code",
   "execution_count": null,
   "id": "c669fe6a",
   "metadata": {},
   "outputs": [],
   "source": []
  },
  {
   "cell_type": "code",
   "execution_count": null,
   "id": "de1303b0",
   "metadata": {},
   "outputs": [],
   "source": []
  }
 ],
 "metadata": {
  "kernelspec": {
   "display_name": "Python 3 (ipykernel)",
   "language": "python",
   "name": "python3"
  },
  "language_info": {
   "codemirror_mode": {
    "name": "ipython",
    "version": 3
   },
   "file_extension": ".py",
   "mimetype": "text/x-python",
   "name": "python",
   "nbconvert_exporter": "python",
   "pygments_lexer": "ipython3",
   "version": "3.9.13"
  }
 },
 "nbformat": 4,
 "nbformat_minor": 5
}
